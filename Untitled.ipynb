{
 "cells": [
  {
   "cell_type": "code",
   "execution_count": 1,
   "id": "7a1186e4-8618-4ab0-9152-0f797fff83e1",
   "metadata": {
    "tags": []
   },
   "outputs": [],
   "source": [
    "# Dependencies\n",
    "import requests\n",
    "import json\n",
    "\n",
    "# Import the API key\n",
    "from lakna_config import spoonacular_key"
   ]
  },
  {
   "cell_type": "code",
   "execution_count": 2,
   "id": "cc9c819c-f23d-480a-aefb-91d02a6a0e66",
   "metadata": {
    "tags": []
   },
   "outputs": [],
   "source": [
    "base_url = \"https://api.spoonacular.com/recipes/complexSearch\""
   ]
  },
  {
   "cell_type": "code",
   "execution_count": 3,
   "id": "de11243a-c0ea-465b-bdd8-fb1e1b6b3828",
   "metadata": {},
   "outputs": [],
   "source": [
    "params = {\"apiKey\":spoonacular_key}"
   ]
  },
  {
   "cell_type": "code",
   "execution_count": 4,
   "id": "332ed0d2-f921-4625-a646-2097337b8f33",
   "metadata": {
    "tags": []
   },
   "outputs": [
    {
     "data": {
      "text/plain": [
       "{'results': [{'id': 782585,\n",
       "   'title': 'Cannellini Bean and Asparagus Salad with Mushrooms',\n",
       "   'image': 'https://spoonacular.com/recipeImages/782585-312x231.jpg',\n",
       "   'imageType': 'jpg'},\n",
       "  {'id': 716426,\n",
       "   'title': 'Cauliflower, Brown Rice, and Vegetable Fried Rice',\n",
       "   'image': 'https://spoonacular.com/recipeImages/716426-312x231.jpg',\n",
       "   'imageType': 'jpg'},\n",
       "  {'id': 715497,\n",
       "   'title': 'Berry Banana Breakfast Smoothie',\n",
       "   'image': 'https://spoonacular.com/recipeImages/715497-312x231.jpg',\n",
       "   'imageType': 'jpg'},\n",
       "  {'id': 715415,\n",
       "   'title': 'Red Lentil Soup with Chicken and Turnips',\n",
       "   'image': 'https://spoonacular.com/recipeImages/715415-312x231.jpg',\n",
       "   'imageType': 'jpg'},\n",
       "  {'id': 716406,\n",
       "   'title': 'Asparagus and Pea Soup: Real Convenience Food',\n",
       "   'image': 'https://spoonacular.com/recipeImages/716406-312x231.jpg',\n",
       "   'imageType': 'jpg'},\n",
       "  {'id': 644387,\n",
       "   'title': 'Garlicky Kale',\n",
       "   'image': 'https://spoonacular.com/recipeImages/644387-312x231.jpg',\n",
       "   'imageType': 'jpg'},\n",
       "  {'id': 715446,\n",
       "   'title': 'Slow Cooker Beef Stew',\n",
       "   'image': 'https://spoonacular.com/recipeImages/715446-312x231.jpg',\n",
       "   'imageType': 'jpg'},\n",
       "  {'id': 782601,\n",
       "   'title': 'Red Kidney Bean Jambalaya',\n",
       "   'image': 'https://spoonacular.com/recipeImages/782601-312x231.jpg',\n",
       "   'imageType': 'jpg'},\n",
       "  {'id': 795751,\n",
       "   'title': 'Chicken Fajita Stuffed Bell Pepper',\n",
       "   'image': 'https://spoonacular.com/recipeImages/795751-312x231.jpg',\n",
       "   'imageType': 'jpg'},\n",
       "  {'id': 766453,\n",
       "   'title': \"Hummus and Za'atar\",\n",
       "   'image': 'https://spoonacular.com/recipeImages/766453-312x231.jpg',\n",
       "   'imageType': 'jpg'}],\n",
       " 'offset': 0,\n",
       " 'number': 10,\n",
       " 'totalResults': 5220}"
      ]
     },
     "execution_count": 4,
     "metadata": {},
     "output_type": "execute_result"
    }
   ],
   "source": [
    "response = requests.get(base_url,params=params).json()\n",
    "response"
   ]
  },
  {
   "cell_type": "code",
   "execution_count": null,
   "id": "65d02c95-8c5e-4c80-a7cf-276f6092e00c",
   "metadata": {
    "tags": []
   },
   "outputs": [],
   "source": []
  },
  {
   "cell_type": "code",
   "execution_count": 5,
   "id": "7aad05ca-9f19-4f1e-bda8-a1c9446d6ab9",
   "metadata": {
    "tags": []
   },
   "outputs": [],
   "source": [
    "recipe_ids = []\n",
    "for recipe_idx in range(len(response['results'])):\n",
    "    recipe_ids.append(response['results'][recipe_idx]['id'])\n",
    "recipe_ids\n",
    "\n",
    "import pandas as pd\n",
    "recipes_df = pd.DataFrame(response['results'])\n",
    "recipes_df.to_csv('Resources/initial_recipes.csv', index=False)"
   ]
  },
  {
   "cell_type": "code",
   "execution_count": null,
   "id": "f21d88b7-6b81-4995-89b0-8ffa4380c08b",
   "metadata": {
    "tags": []
   },
   "outputs": [],
   "source": []
  },
  {
   "cell_type": "code",
   "execution_count": null,
   "id": "66fb6c0a-5f95-41d5-a63c-c9ebe2c0a70d",
   "metadata": {},
   "outputs": [],
   "source": []
  }
 ],
 "metadata": {
  "kernelspec": {
   "display_name": "Python 3 (ipykernel)",
   "language": "python",
   "name": "python3"
  },
  "language_info": {
   "codemirror_mode": {
    "name": "ipython",
    "version": 3
   },
   "file_extension": ".py",
   "mimetype": "text/x-python",
   "name": "python",
   "nbconvert_exporter": "python",
   "pygments_lexer": "ipython3",
   "version": "3.11.4"
  }
 },
 "nbformat": 4,
 "nbformat_minor": 5
}
