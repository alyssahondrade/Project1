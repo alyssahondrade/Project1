





# Import libraries
import os
import pandas as pd
import requests

# Import API keys
from alyssa_config import spoonacular_key, rapidapi_key
# from lakna_config import spoonacular_key


# Check number of items in the Resources subdirectories, to automate file naming.
def recipe_folder():
    count = len(os.listdir('Resources/01_recipe_IDs'))-1
    return(count)

def raw_folder():
    count = len(os.listdir('Resources/02_raw_data'))-1
    return(count)

def simple_folder():
    count = len(os.listdir('Resources/03_simplified_data'))-1
    return(count)


# Request user input for 'initial_recipes' index of interest.
def check_index():
    try:
        index = int(input(f"Select file number (0-{recipe_folder()-1}): "))
        return index
    except ValueError as e:
        print(f"{e}: Integer required.")





# Import FOOD.COM recipes dataset
food_df = pd.read_csv('Resources/RAW_recipes.csv')
food_df.head()


# Get food_df shape and columns
food_shape = food_df.shape
print(f"Shape: {food_shape}")
print(f"Columns: {food_df.columns}")


# Determine whether there are duplicate recipes by ID
dup_id = len(food_df['id'].unique())
print(f"Unique recipe IDs: {dup_id}, {food_shape[0] == dup_id}")

# Determine whether there are duplicate recipes by name
dup_name = len(food_df['name'].unique())
print(f"Unique recipe names: {dup_name}, {food_shape[0] == dup_name}")
duplicate_names = food_df.loc[food_df.duplicated(['name'])] # duplicate names should be okay
duplicate_names.head()


# Identify how to isolate each tag
tag_string = food_df['tags'][0].strip("[]")
tag_string = tag_string.split(', ')
tag_string[0].strip("'")

unique_tags = []
for string in food_df['tags']:
    tag_list = string.strip("[]").split(', ')
    for word_idx in range(len(tag_list)):
        tag = tag_list[word_idx].strip("'")
        if tag not in unique_tags:
            unique_tags.append(tag)
sorted(unique_tags)


# Check for meal types
meal_types = ["breakfast", "lunch", "dinner"]
for meal in meal_types:
    if meal in unique_tags:
        print(f"{meal} is a tag.")
    else:
        print(f"{meal} is not a tag.")

# Look for a similar tag to "dinner"
found = False
for tag in unique_tags:
    if (tag[:6] == "dinner"):
        print(f"{tag} is a match.")
        found = True
if (found is False):
    print("No matches found.")

# Count how many rows contain each meal type
# NOTE: the tag lists are not alphabetical, look for the first then move on? or if both in the row, drop
updated_meals = ["breakfast", "lunch", "dinner-party"]
breakfast = 0
lunch = 0
dinner = 0
multiple = 0
ping = 0

incl_recipe = []
incl_meal = []
for idx, string in food_df.iterrows():
    tag_list = string['tags'].strip("[]").split(', ')
    for word_idx in range(len(tag_list)):
        score = 0
        tag = tag_list[word_idx].strip("'")
        if (tag in updated_meals):
            ping += 1
print(ping)
#             incl_recipe.append(food_df['id'])
#             incl_meal.append(tag)

# meals_df = pd.DataFrame({'Recipe ID': incl_recipe, 'Meal Type': incl_meal})
# meals_df.head()
# print(f"Breakfast: {breakfast}")
# print(f"Lunch: {lunch}")
# print(f"Dinner: {dinner}")
# print(f"Multiple: {multiple}")
# len(food_df['tags'])


interactions_df = pd.read_csv('Resources/RAW_interactions.csv')
interactions_df.head()


# Check how many recipes have ratings
unique_ratings = len(interactions_df['recipe_id'].unique())
print(f"{unique_ratings} out of {food_shape[0]} have ratings.")

# Check how many recipes have a '0' rating
zero_rating = interactions_df.loc[interactions_df['rating'] == 0]['recipe_id'].unique()
print(f"There are {len(zero_rating)} recipes with a '0' rating.")

# Drop the rows with a '0' rating
nonzero_df = interactions_df.loc[interactions_df['rating'] != 0]
print(f"nonzero_df shape: {nonzero_df.shape}")


# Create a dataframe with the average ratings per recipe ID
food_ratings = nonzero_df.groupby('recipe_id')['rating'].mean().reset_index()

# Display dataframe
food_ratings.head()


# Rename the recipe ID column for merging with the FOOD.COM recipes dataset
food_ratings = food_ratings.rename(columns={'recipe_id': 'id'})

# Merge the datasets and display updated dataframe
merged_food = pd.merge(food_df, food_ratings, on='id')
merged_food








# API REQUEST - Complex Search.
recipe_url = "https://api.spoonacular.com/recipes/complexSearch"

# Set request parameters
recipe_params = {
    'apiKey': spoonacular_key,
    'number': 100}

# Request a list of recipes.
recipe_response = requests.get(recipe_url, recipe_params).json()

# Output response to a csv
recipes_df = pd.DataFrame(recipe_response['results'])
recipes_df.to_csv(f'Resources/01_recipe_IDs/initial_recipes_0.csv', index=False)


# Import and display complex search results
recipes_df = pd.read_csv(f'Resources/01_recipe_IDs/initial_recipes_0.csv')
recipes_df.head()


# Check the number of returned recipes
print(f'Number of recipes returned: {len(recipes_df)}')


# API REQUEST - Recipe Information
recipe_info = []
for id in recipes_df['id']:
    info_url = f"https://api.spoonacular.com/recipes/{id}/information?"
    info_params = {
        'apiKey': spoonacular_key,
        'includeNutrition': "true"}

    info_response = requests.get(info_url, info_params).json()
    recipe_info.append(info_response)

info_df = pd.DataFrame(recipe_info)
info_df.to_csv(f'Resources/02_raw_data/info_master_0.csv')


# While the API response is accessible, identify attributes of interest
recipe_info[0].keys()

# Generic metadata
recipe_info[0]['id']
recipe_info[0]['title']
recipe_info[0]['aggregateLikes'] # will need to convert this to a 5-point scale
recipe_info[0]['extendedIngredients'] # can use len() to get the number of ingredients
recipe_info[0]['weightWatcherSmartPoints'] # research the equation for this
recipe_info[0]['cuisines'] # identify recipes with non-empty results
recipe_info[0]['dishTypes'] # will need to select a simpler subset

# Nutritional values - amount, unit, percent of daily needs
recipe_info[0]['nutrition']['nutrients'][0] # Calories
recipe_info[0]['nutrition']['nutrients'][2] # Saturated Fat
recipe_info[0]['nutrition']['nutrients'][5] # Sugar
recipe_info[0]['nutrition']['nutrients'][7] # Sodium
recipe_info[0]['nutrition']['nutrients'][8] # Protein


# Import and display recipe information results
info_df = pd.read_csv(f'Resources/02_raw_data/info_master_0.csv')

# Get the list of column names
info_df.columns

# Display the dataframe
info_df.head()





random_url = "https://api.spoonacular.com/recipes/random?"

# Set request parameters
random_params = {
    'apiKey': spoonacular_key,
    'number': 100}

# Request a list of random recipe IDs.
random_response = requests.get(random_url, random_params).json()

# Output response to a csv
random_df = pd.DataFrame(random_response['recipes'])
random_df.to_csv(f'Resources/01_recipe_IDs/initial_recipes_4.csv', index=False)


# Import and display random recipes results
random_df = pd.read_csv(f'Resources/01_recipe_IDs/initial_recipes_4.csv')
random_df.head()


# Get the list of column name
random_df.columns


# API REQUEST - Recipe Information
recipe_info = []
for id in random_df['id']:
    info_url = f"https://api.spoonacular.com/recipes/{id}/information?"
    info_params = {
        'apiKey': spoonacular_key,
        'includeNutrition': "true"}

    info_response = requests.get(info_url, info_params).json()
    recipe_info.append(info_response)

info_df = pd.DataFrame(recipe_info)
info_df.to_csv(f'Resources/02_raw_data/info_master_4.csv')


# Display the dataframe
info_df.head()





# Metadata
recipe_id = []
recipe_name = []
recipe_likes = []
meal_type = []
cuisines = []
num_ingredients = []
ww_points = []

# Calories
calories_amt = []
calories_unit = []
calories_pct = []

# Saturated Fat
satfat_amt = []
satfat_unit = []
satfat_pct = []

# Sugar
sugar_amt = []
sugar_unit = []
sugar_pct = []

# Sodium
sodium_amt = []
sodium_unit = []
sodium_pct = []

# Protein
protein_amt = []
protein_unit = []
protein_pct = []

for idx, row in enumerate(recipe_info):
    try:
        recipe_id.append(recipe_info[idx]['id'])
        recipe_name.append(recipe_info[idx]['title'])
        recipe_likes.append(recipe_info[idx]['aggregateLikes'])
        meal_type.append(recipe_info[idx]['dishTypes'])
        cuisines.append(recipe_info[idx]['cuisines'])
        num_ingredients.append(len(recipe_info[idx]['extendedIngredients']))
        ww_points.append(recipe_info[idx]['weightWatcherSmartPoints'])
        
        calories_amt.append(recipe_info[idx]['nutrition']['nutrients'][0]['amount'])
        calories_unit.append(recipe_info[idx]['nutrition']['nutrients'][0]['unit'])
        calories_pct.append(recipe_info[idx]['nutrition']['nutrients'][0]['percentOfDailyNeeds'])
        
        satfat_amt.append(recipe_info[idx]['nutrition']['nutrients'][2]['amount'])
        satfat_unit.append(recipe_info[idx]['nutrition']['nutrients'][2]['unit'])
        satfat_pct.append(recipe_info[idx]['nutrition']['nutrients'][2]['percentOfDailyNeeds'])
        
        sugar_amt.append(recipe_info[idx]['nutrition']['nutrients'][5]['amount'])
        sugar_unit.append(recipe_info[idx]['nutrition']['nutrients'][5]['unit'])
        sugar_pct.append(recipe_info[idx]['nutrition']['nutrients'][5]['percentOfDailyNeeds'])
        
        sodium_amt.append(recipe_info[idx]['nutrition']['nutrients'][7]['amount'])
        sodium_unit.append(recipe_info[idx]['nutrition']['nutrients'][7]['unit'])
        sodium_pct.append(recipe_info[idx]['nutrition']['nutrients'][7]['percentOfDailyNeeds'])
        
        protein_amt.append(recipe_info[idx]['nutrition']['nutrients'][8]['amount'])
        protein_unit.append(recipe_info[idx]['nutrition']['nutrients'][8]['unit'])
        protein_pct.append(recipe_info[idx]['nutrition']['nutrients'][8]['percentOfDailyNeeds'])
    
    except:
        print(idx)

spoonacular_df = pd.DataFrame({
    'ID': recipe_id,
    'Name': recipe_name,
    'Likes': recipe_likes,
    'Meal Type': meal_type,
    'Cuisines': cuisines,
    'N_ingredients': num_ingredients,
    'WW Smart Points': ww_points,
    'Calories (Amount)': calories_amt,
    'Calories (Unit)': calories_unit,
    'Calories (% of Daily Needs)': calories_pct,
    'Saturated Fat (Amount)': satfat_amt,
    'Saturated Fat (Unit)': satfat_unit,
    'Saturated Fat (% of Daily Needs)': satfat_pct,
    'Sugar (Amount)': sugar_amt,
    'Sugar (Unit)': sugar_unit,
    'Sugar (% of Daily Needs)': sugar_pct,
    'Sodium (Amount)': sodium_amt,
    'Sodium (Unit)': sodium_unit,
    'Sodium (% of Daily Needs)': sodium_pct,
    'Protein (Amount)': protein_amt,
    'Protein (Unit)': protein_unit,
    'Protein (% of Daily Needs)': protein_pct})

spoonacular_df.to_csv(f"Resources/03_simplified_data/initial_nutrition_4.csv", index=False)


# Check the units columns
units_columns = ['Calories (Unit)', 'Saturated Fat (Unit)', 'Sugar (Unit)', 'Sodium (Unit)', 'Protein (Unit)']
for col in units_columns:
    check = spoonacular_df['Protein (Unit)'].unique()
    print(f"Unit check: {col} {check}")








# Import existing recipe IDs at requested index.
recipes_df = pd.read_csv(f'Resources/01_recipe_IDs/initial_recipes_{check_index()}.csv')

# Display dataframe
recipes_df
# recipes_df['recipes'][0]


# Data Collection - Spoonacular API, using Random Recipe
random_url = "https://api.spoonacular.com/recipes/random?"

# Set request parameters
random_params = {
    'apiKey': spoonacular_key,
    'number': 100}

# Request a list of random recipe IDs.
random_response = requests.get(random_url, random_params).json()

# Output response to a csv
random_df = pd.DataFrame(random_response['recipes'])
random_df.to_csv(f'Resources/Recipe_IDs/random_results_{recipe_folder}.csv', index=False)


# Import recipe raw data of interest
# random_df = pd.read_csv(f'Resources/
check_index()
random_df = pd.read_csv(f'Resources/Recipe_IDs/


random_list = []
for index in range(len(random_response['recipes'])):
    random_list.append(random_response['recipes'][index]['id'])


random_list


for id in recipes_df['id']:
    print(id)


# Get recipe and nutrition information
nutrition_list = []
# for id in recipes_df['id']:
for id in random_list:
    nutrition_url = f"https://api.spoonacular.com/recipes/{id}/information?"
    nutrition_params = {
        'apiKey': spoonacular_key,
        'includeNutrition': "true"}

    nutrition_response = requests.get(nutrition_url, nutrition_params).json()
    nutrition_list.append(nutrition_response)


nutrition_list


nutrition_master = pd.DataFrame(nutrition_list)
nutrition_master.to_csv("Resources/nutrition_master_3.csv", index=False)


recipe_id = []
recipe_name = []
recipe_likes = []
meal_type = []
cuisines = []
num_ingredients = []
ww_points = []

calories_amt = []
calories_unit = []
calories_pct = []

satfat_amt = []
satfat_unit = []
satfat_pct = []

sugar_amt = []
sugar_unit = []
sugar_pct = []

sodium_amt = []
sodium_unit = []
sodium_pct = []

protein_amt = []
protein_unit = []
protein_pct = []


for idx, row in enumerate(nutrition_list):
    try:
        recipe_id.append(nutrition_list[idx]['id'])
        recipe_name.append(nutrition_list[idx]['title'])
        recipe_likes.append(nutrition_list[idx]['aggregateLikes'])
        meal_type.append(nutrition_list[idx]['dishTypes'])
        cuisines.append(nutrition_list[idx]['cuisines'])
        num_ingredients.append(len(nutrition_list[idx]['extendedIngredients']))
        ww_points.append(nutrition_list[idx]['weightWatcherSmartPoints'])
        
        # Second to last '0' index is for CALORIES
        calories_amt.append(nutrition_list[idx]['nutrition']['nutrients'][0]['amount'])
        calories_unit.append(nutrition_list[idx]['nutrition']['nutrients'][0]['unit'])
        calories_pct.append(nutrition_list[idx]['nutrition']['nutrients'][0]['percentOfDailyNeeds'])
        
        satfat_amt.append(nutrition_list[idx]['nutrition']['nutrients'][2]['amount'])
        satfat_unit.append(nutrition_list[idx]['nutrition']['nutrients'][2]['unit'])
        satfat_pct.append(nutrition_list[idx]['nutrition']['nutrients'][2]['percentOfDailyNeeds'])
        
        sugar_amt.append(nutrition_list[idx]['nutrition']['nutrients'][5]['amount'])
        sugar_unit.append(nutrition_list[idx]['nutrition']['nutrients'][5]['unit'])
        sugar_pct.append(nutrition_list[idx]['nutrition']['nutrients'][5]['percentOfDailyNeeds'])
        
        sodium_amt.append(nutrition_list[idx]['nutrition']['nutrients'][7]['amount'])
        sodium_unit.append(nutrition_list[idx]['nutrition']['nutrients'][7]['unit'])
        sodium_pct.append(nutrition_list[idx]['nutrition']['nutrients'][7]['percentOfDailyNeeds'])
        
        protein_amt.append(nutrition_list[idx]['nutrition']['nutrients'][8]['amount'])
        protein_unit.append(nutrition_list[idx]['nutrition']['nutrients'][8]['unit'])
        protein_pct.append(nutrition_list[idx]['nutrition']['nutrients'][8]['percentOfDailyNeeds'])
    
    except:
        print(idx)

spoonacular_df = pd.DataFrame({
    'ID': recipe_id,
    'Name': recipe_name,
    'Likes': recipe_likes,
    'Meal Type': meal_type,
    'Cuisines': cuisines,
    'N_ingredients': num_ingredients,
    'WW Smart Points': ww_points,
    'Calories (Amount)': calories_amt,
    'Calories (Unit)': calories_unit,
    'Calories (% of Daily Needs)': calories_pct,
    'Saturated Fat (Amount)': satfat_amt,
    'Saturated Fat (Unit)': satfat_unit,
    'Saturated Fat (% of Daily Needs)': satfat_pct,
    'Sugar (Amount)': sugar_amt,
    'Sugar (Unit)': sugar_unit,
    'Sugar (% of Daily Needs)': sugar_pct,
    'Sodium (Amount)': sodium_amt,
    'Sodium (Unit)': sodium_unit,
    'Sodium (% of Daily Needs)': sodium_pct,
    'Protein (Amount)': protein_amt,
    'Protein (Unit)': protein_unit,
    'Protein (% of Daily Needs)': protein_pct})

unit_check = spoonacular_df['Protein (Unit)'].unique()
unit_check

spoonacular_df.to_csv("Resources/initial_nutrition_6.csv", index=False)









