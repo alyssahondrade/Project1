# Import libraries
import os
import pandas as pd
import requests

# Import API keys
from alyssa_config import spoonacular_key, rapidapi_key
# from lakna_config import spoonacular_key


# Check number of items in the Resources subdirectories, to automate file naming.
recipe_folder = len(os.listdir('Resources/Recipe_IDs'))-1
raw_folder = len(os.listdir('Resources/Raw_data'))-1
simple_folder = len(os.listdir('Resources/Simplified_data'))-1


# INITIAL RUN ONLY - DO NOT USE
# Initial Data Exploration - Test Spoonacular API, using Complex Search.
recipe_url = "https://api.spoonacular.com/recipes/complexSearch"

# Set request parameters
recipe_params = {
    'apiKey': spoonacular_key,
    'number': 100}

# Request a list of recipes.
recipe_response = requests.get(recipe_url, recipe_params).json()

# Output response to a csv
recipes_df = pd.DataFrame(recipe_response['results'])
recipes_df.to_csv(f'Resources/Recipe_IDs/initial_recipes_{recipe_folder}.csv', index=False)


# Request user input for 'initial_recipes' index of interest.
try:
    check_index = int(input("Select file number: "))
except ValueError as e:
    print(f"{e}: Integer required.")


# Import existing recipe IDs at requested index.
recipes_df = pd.read_csv(f'Resources/Recipe_IDs/initial_recipes_{check_index}.csv')

# Display dataframe
recipes_df
# recipes_df['recipes'][0]


# INITIAL RUN ONLY - DO NOT USE
# Get list of recipe IDs
for id in recipes_df:
    print(id)


# Data Collection - Spoonacular API, using Random Recipe
random_url = "https://api.spoonacular.com/recipes/random?"

# Set request parameters
random_params = {
    'apiKey': spoonacular_key,
    'number': 100}

# Request a list of random recipe IDs.
random_response = requests.get(random_url, random_params).json()

# Output response to a csv
random_df = pd.DataFrame(random_response['recipes'])
random_df.to_csv(f'Resources/random_results_{recipe_folder}.csv', index=False)


# TRY RANDOM Recipes
random_url = "https://api.spoonacular.com/recipes/random?"
random_params = {
    'apiKey': spoonacular_key,
    'number': 100}

random_response = requests.get(random_url, random_params).json()
random_response

random_df = pd.DataFrame(random_response)
random_df.to_csv("Resources/random_results_2.csv", index=False)


random_list = []
for index in range(len(random_response['recipes'])):
    random_list.append(random_response['recipes'][index]['id'])


random_list


for id in recipes_df['id']:
    print(id)


# Get recipe and nutrition information
nutrition_list = []
# for id in recipes_df['id']:
for id in random_list:
    nutrition_url = f"https://api.spoonacular.com/recipes/{id}/information?"
    nutrition_params = {
        'apiKey': spoonacular_key,
        'includeNutrition': "true"}

    nutrition_response = requests.get(nutrition_url, nutrition_params).json()
    nutrition_list.append(nutrition_response)


nutrition_list


nutrition_master = pd.DataFrame(nutrition_list)
nutrition_master.to_csv("Resources/nutrition_master_3.csv", index=False)


recipe_id = []
recipe_name = []
recipe_likes = []
meal_type = []
cuisines = []
num_ingredients = []

calories_amt = []
calories_unit = []
calories_pct = []

satfat_amt = []
satfat_unit = []
satfat_pct = []

sugar_amt = []
sugar_unit = []
sugar_pct = []

sodium_amt = []
sodium_unit = []
sodium_pct = []

protein_amt = []
protein_unit = []
protein_pct = []


for idx, row in enumerate(nutrition_list):
    try:
        recipe_id.append(nutrition_list[idx]['id'])
        recipe_name.append(nutrition_list[idx]['title'])
        recipe_likes.append(nutrition_list[idx]['aggregateLikes'])
        meal_type.append(nutrition_list[idx]['dishTypes'])
        cuisines.append(nutrition_list[idx]['cuisines'])
        num_ingredients.append(len(nutrition_list[idx]['extendedIngredients']))
        
        # Second to last '0' index is for CALORIES
        calories_amt.append(nutrition_list[idx]['nutrition']['nutrients'][0]['amount'])
        calories_unit.append(nutrition_list[idx]['nutrition']['nutrients'][0]['unit'])
        calories_pct.append(nutrition_list[idx]['nutrition']['nutrients'][0]['percentOfDailyNeeds'])
        
        satfat_amt.append(nutrition_list[idx]['nutrition']['nutrients'][2]['amount'])
        satfat_unit.append(nutrition_list[idx]['nutrition']['nutrients'][2]['unit'])
        satfat_pct.append(nutrition_list[idx]['nutrition']['nutrients'][2]['percentOfDailyNeeds'])
        
        sugar_amt.append(nutrition_list[idx]['nutrition']['nutrients'][5]['amount'])
        sugar_unit.append(nutrition_list[idx]['nutrition']['nutrients'][5]['unit'])
        sugar_pct.append(nutrition_list[idx]['nutrition']['nutrients'][5]['percentOfDailyNeeds'])
        
        sodium_amt.append(nutrition_list[idx]['nutrition']['nutrients'][7]['amount'])
        sodium_unit.append(nutrition_list[idx]['nutrition']['nutrients'][7]['unit'])
        sodium_pct.append(nutrition_list[idx]['nutrition']['nutrients'][7]['percentOfDailyNeeds'])
        
        protein_amt.append(nutrition_list[idx]['nutrition']['nutrients'][8]['amount'])
        protein_unit.append(nutrition_list[idx]['nutrition']['nutrients'][8]['unit'])
        protein_pct.append(nutrition_list[idx]['nutrition']['nutrients'][8]['percentOfDailyNeeds'])
    
    except:
        print(idx)

spoonacular_df = pd.DataFrame({
    'ID': recipe_id,
    'Name': recipe_name,
    'Likes': recipe_likes,
    'Meal Type': meal_type,
    'Cuisines': cuisines,
    'N_ingredients': num_ingredients,
    'Calories (Amount)': calories_amt,
    'Calories (Unit)': calories_unit,
    'Calories (% of Daily Needs)': calories_pct,
    'Saturated Fat (Amount)': satfat_amt,
    'Saturated Fat (Unit)': satfat_unit,
    'Saturated Fat (% of Daily Needs)': satfat_pct,
    'Sugar (Amount)': sugar_amt,
    'Sugar (Unit)': sugar_unit,
    'Sugar (% of Daily Needs)': sugar_pct,
    'Sodium (Amount)': sodium_amt,
    'Sodium (Unit)': sodium_unit,
    'Sodium (% of Daily Needs)': sodium_pct,
    'Protein (Amount)': protein_amt,
    'Protein (Unit)': protein_unit,
    'Protein (% of Daily Needs)': protein_pct})
unit_check = spoonacular_df['Protein (Unit)'].unique()
unit_check

spoonacular_df.to_csv("Resources/initial_nutrition_6.csv", index=False)






