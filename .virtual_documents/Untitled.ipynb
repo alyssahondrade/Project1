# Dependencies
import requests
import json

# Import the API key
from lakna_config import spoonacular_key


base_url = "https://api.spoonacular.com/recipes/complexSearch"


params = {"apiKey":spoonacular_key}


response = requests.get(base_url,params=params).json()
response





recipe_ids = []
for recipe_idx in range(len(response['results'])):
    recipe_ids.append(response['results'][recipe_idx]['id'])
recipe_ids

import pandas as pd
recipes_df = pd.DataFrame(response['results'])
recipes_df.to_csv('Resources/initial_recipes.csv', index=False)






