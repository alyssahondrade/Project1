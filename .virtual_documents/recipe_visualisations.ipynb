





# Import libraries
import matplotlib.pyplot as plt
import pandas as pd
import numpy as np
import scipy.stats as stats
import hvplot.pandas

# Import functions notebook
%run functions.ipynb


# Import cleaned data
clean_recipes = pd.read_csv('Output/clean_recipes.csv')
clean_recipes.head()


# Create a histogram of the points to understand distribution
clean_recipes['wws_points'].hist(bins=20)
plt.title("Food.com Recipes")
plt.xlabel("WW Smart Points")
plt.ylabel("Number of Recipes")
plt.show()


# Check for Gaussian distribution - using Shapiro-Wilk test
# Note: Shapiro-Wilk is sensitive to sample size
sample_set = clean_recipes['wws_points'].sample(n=500)
sample_set.hist(bins=15)
plt.title("Food.com Recipes")
plt.xlabel("Weight Watchers (WW) Smart Points")
plt.ylabel("Number of Recipes")

stats.shapiro(sample_set)
# A very high W-statistic suggests a good fit to a normal distribution.
# A near-zero p-value, for a Shapiro-Wilk test, rejects the null hypothesis, meaning NOT a normal distribution.





# Isolate 'breakfast, lunch, dinner' from clean_recipes
meal_df = clean_recipes.groupby(['meal_type']).mean(numeric_only=True)
meal_df = meal_df.drop(columns=['id', 'contributor_id'])
meal_df


updated_types = clean_recipes['meal_type'].unique()
updated_types = ['breakfast', 'lunch', 'dinner']

# Breakfast
breakfast = clean_recipes.loc[clean_recipes['meal_type'] == "breakfast"].copy()
print(f'breakfast: {breakfast.shape}')

# Lunch
lunch = clean_recipes.loc[clean_recipes['meal_type'] == "lunch"].copy()
print(f'lunch: {lunch.shape}')

# Dinner
dinner = clean_recipes.loc[clean_recipes['meal_type'] == "dinner"].copy()
print(f'dinner: {dinner.shape}')


# Create list of nutritional values to create a plot for
nutrition_list = ['Calories', 'Saturated Fat (PDV)', 'Sugar (PDV)']

def meal_plots(target_nutrition):
    fig, axs = plt.subplots(3, sharex=True, sharey=True)
    fig.suptitle("WW Smart Points")
    x_col = 'wws_points'
    y_col = 'rating'
    size_col = 'protein_g'
    df_list = [breakfast, lunch, dinner]

    rval_count = 0
    for idx, val in enumerate(df_list):
        colour_col = target_nutrition
        # Bin by `wws_points`
        min_points = df_list[idx]['wws_points'].describe().min()
        max_points = df_list[idx]['wws_points'].describe().max()
        
        # Create bins
        points_bins = np.arange(min_points, max_points, 15) # 5 was good with less granular cuisines
        points_labels = [f'{points_bins[i]} to {points_bins[i+1]}' for i in range(len(points_bins)-1)]
        bins_df = pd.cut(df_list[idx]['wws_points'], bins=points_bins, labels=points_labels)
        
        # Set the index and its name
        points_df = df_list[idx].set_index(bins_df)
        points_df.index.name = "WWS Point Ranges"
        
        # Create grouped DataFrame by numeric means
        binned_df = points_df.groupby(['WWS Point Ranges']).median(numeric_only=True) # originally mean
        binned_df
    
        # Extract x- and y-values
        x = binned_df[x_col]
        y = binned_df[y_col]
        size = binned_df[size_col]
        colour = binned_df[colour_col]
    
        scatter_plot = axs[idx].scatter(x, y, s=size*10, alpha=0.3, c=colour)
        axs[2].set_xlabel('WW Smart Points')
        axs[idx].set_ylabel(updated_types[idx].title())
        cbar = plt.colorbar(scatter_plot)

        if (target_nutrition == "sat_fat_g"):
            bar_label = nutrition_list[1]
        elif (target_nutrition == "sugar_g"):
            bar_label = nutrition_list[2]
        else:        
            bar_label = target_nutrition
        cbar.set_label(bar_label)
    
        (slope, intercept, rvalue, pvalue, stderr) = stats.linregress(x, y)
        line_equation = f'y = {round(slope, 2)}x + {round(intercept, 2)}'
        regression_values = slope * x + intercept
        axs[idx].plot(x, regression_values, linestyle='--', c='red')
        if idx == 0:
            x_coord, y_coord = 50, 240
        elif idx == 1:
            x_coord, y_coord = 50, 150
        elif idx == 2:
            x_coord, y_coord = 50, 50
        axs[idx].annotate(line_equation, xy=(x_coord, y_coord), xycoords='figure points',
            fontsize = 12, color='red', weight='bold')

        print(f'{updated_types[idx]} R-value: {round(rvalue**2, 2)}')
    
    fig.savefig(f'Meal types and WW Smart Points - {colour_col}.png')

meal_plots('sat_fat_g')
meal_plots('sugar_g')
meal_plots('Calories')


# Create a DataFrame grouped by the means of each cuisine
meal_df = clean_recipes.groupby(['meal_type']).median(numeric_only=True)

# Get percentage of "healthy" recipes per cuisine
# Set the limit as the median 'wws_points'
wws_median = clean_recipes['wws_points'].describe()['50%']

# Get the total number of recipes per cuisine
meal_count = clean_recipes.groupby(['meal_type'])['id'].count()

# Create a DataFrame of recipes that sit above the median 'wws_points'
healthy_count = clean_recipes.loc[clean_recipes['wws_points'] < wws_median]

# Create a groupby DataFrame that counts the number of healthy recipes
healthy_group = healthy_count.groupby(['meal_type'])['id'].count()

# Calculate the percentage value
percent_healthy = []
for idx in range(len(meal_count)):
    percent_healthy.append(int(healthy_group[idx] * 100 / meal_count[idx]))

# Create a DataFrame with calculated percentages, add the average WWS Points as a new column
percent_df = pd.DataFrame(percent_healthy, index=healthy_group.index, columns=['percent_healthy'])
percent_df['ave_wws_points'] = meal_df['wws_points']

# Sort the values and reset index to recover 'cuisine'
percent_df = percent_df.sort_values(by=['percent_healthy'], ascending=True).reset_index()

# Plot the bar chart
bar_chart = percent_df['ave_wws_points'].plot(
    kind = "bar",
    title = "Percentage of Healthy Recipes per Meal Type",
    edgecolor = "white")

# Set the labels
bar_chart.set_xlabel("Meal Types")
bar_chart.set_ylabel("Average WW Smart Points")
cuisine_titles = [word.title() for word in percent_df['meal_type']]
bar_chart.set_xticklabels(
    cuisine_titles,
    rotation_mode='default',
    rotation=0)

# Annotate the bar chart with the percentage values
for index, row in percent_df.iterrows():
    plt.annotate(
        f"{row['percent_healthy']}%",
        color = "green",
        xy = (row.name, meal_df[meal_df.index == row['meal_type']]['wws_points']),
        xytext = (-8, 2),
        textcoords='offset points')
    # plt.annotate(
    #     row['ave_wws_points'],
    #     color = "black",
    #     xy = (row.name, meal_df[meal_df.index == row['meal_type']]['wws_points']),
    #     xytext = (-8, -20),
    #     textcoords='offset points',
    #     size = 12)





# Create a DataFrame grouped by the means of each cuisine
cuisine_df = clean_recipes.groupby(['cuisine']).median(numeric_only=True)

# Get percentage of "healthy" recipes per cuisine
# Set the limit as the median 'wws_points'
wws_median = clean_recipes['wws_points'].describe()['50%']

# Get the total number of recipes per cuisine
cuisine_count = clean_recipes.groupby(['cuisine'])['id'].count()

# Create a DataFrame of recipes that sit above the median 'wws_points'
healthy_count = clean_recipes.loc[clean_recipes['wws_points'] < wws_median]

# Create a groupby DataFrame that counts the number of healthy recipes
healthy_group = healthy_count.groupby(['cuisine'])['id'].count()

# Calculate the percentage value
percent_healthy = []
for idx in range(len(cuisine_count)):
    percent_healthy.append(int(healthy_group[idx] * 100 / cuisine_count[idx]))

# Create a DataFrame with calculated percentages, add the average WWS Points as a new column
percent_df = pd.DataFrame(percent_healthy, index=healthy_group.index, columns=['percent_healthy'])
percent_df['ave_wws_points'] = cuisine_df['wws_points']

# Sort the values and reset index to recover 'cuisine'
percent_df = percent_df.sort_values(by=['percent_healthy'], ascending=True).reset_index()

# Plot the bar chart
bar_chart = percent_df['ave_wws_points'].plot(
    kind = "bar",
    title = "Percentage of Healthy Recipes per Cuisine",
    figsize = (8,6),
    width = 1,
    linewidth = 10,
    edgecolor = "white")

# Set the labels
bar_chart.set_xlabel("Cuisines")
bar_chart.set_ylabel("Average WW Smart Points")
cuisine_titles = [word.title() for word in percent_df['cuisine']]
bar_chart.set_xticklabels(
    cuisine_titles,
    rotation_mode='default',
    rotation=45,
    ha='right')

# Annotate the bar chart with the percentage values
for index, row in percent_df.iterrows():
    plt.annotate(
        f"{row['percent_healthy']}%", color="green",
        xy=(row.name, cuisine_df[cuisine_df.index == row['cuisine']]['wws_points']),
        xytext=(-10,0), textcoords='offset points')


cuisine_df.index


# Create a DataFrame grouped by the means of each cuisine
cuisine_count = clean_recipes.groupby(['cuisine'])['id'].count()
cuisine_count.sort_values(ascending=False).plot(kind="bar")


cuisine_data = pd.read_csv('Output/cuisine_dataframe.csv')

cuisine_map = cuisine_data.hvplot.points(
    'longitude',
    'latitude',
    color = 'rating',
    # cmap = ['purple', 'red'],
    size = 'wws_points',
    scale = 30,
    alpha = 0.3,
    geo = True,
    tiles = "CartoLight",
    frame_width = 1000,
    frame_height = 800)
cuisine_map


cuisine_df





# Identify high protien recipe
highest_rated = clean_recipes.loc[clean_recipes['rating'] >= 5]

wws_point_for_food = highest_rated[['name', 'wws_points', 'cuisine', 'protein_g', 'meal_type']]
wws_point_for_food = wws_point_for_food.sort_values('wws_points')
wws_point_for_food.reset_index(drop=True).head(10)


best_recipe = clean_recipes.loc[clean_recipes['id'] == 175916]
best_recipe


# What is the health rating of the highest-rated recipes?
by_rating = highest_rated.groupby(['wws_points']).mean(numeric_only=True)
by_rating


# Create bins
min_points = highest_rated['wws_points'].min()
max_points = highest_rated['wws_points'].max()
points_bins = np.arange(min_points, max_points, 15) # 5 was good with less granular cuisines
points_labels = [f'{points_bins[i]} to {points_bins[i+1]}' for i in range(len(points_bins)-1)]
bins_df = pd.cut(highest_rated['wws_points'], bins=points_bins, labels=points_labels)

# # Set the index and its name
points_df = highest_rated.set_index(bins_df)
points_df.index.name = "WWS Point Ranges"

# # Create grouped DataFrame by numeric means
binned_df = points_df.groupby(['WWS Point Ranges']).count()
binned_df['id'].plot(kind="bar")


bins = [1, 2, 3, 4, 5]
group_name = ['Poor', 'Fair', 'Good', 'Very Good']
clean_recipes['rating_scale'] = pd.cut(clean_recipes['rating'], bins, labels=group_name, include_lowest=True)
df = pd.DataFrame(clean_recipes.groupby('rating_scale')['wws_points'].mean()).reset_index()
df



