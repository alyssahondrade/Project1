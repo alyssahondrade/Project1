





# !pip install dataframe-image

# Import libraries
import matplotlib.pyplot as plt
import pandas as pd
import numpy as np
import scipy.stats as stats
import hvplot.pandas
import dataframe_image as dfi

# Import functions notebook
%run functions.ipynb


# Import cleaned data
clean_recipes = pd.read_csv('Output/clean_recipes.csv')
clean_recipes.head()





# Create a histogram of the points to understand distribution
clean_recipes['wws_points'].hist(bins=20)
plt.title("Food.com Recipes")
plt.xlabel("WW Smart Points")
plt.ylabel("Number of Recipes")
plt.show()


# Check for Gaussian distribution - using Shapiro-Wilk test
# Note: Shapiro-Wilk is sensitive to sample size
sample_size = 500
sample_set = clean_recipes['wws_points'].sample(n=sample_size)
sample_set.hist(bins=15)
plt.title(f"Food.com Recipes - Sample (n={sample_size})")
plt.xlabel("Weight Watchers (WW) Smart Points")
plt.ylabel("Number of Recipes")

stats.shapiro(sample_set)
# A very high W-statistic suggests a good fit to a normal distribution.
# A near-zero p-value, for a Shapiro-Wilk test, rejects the null hypothesis, meaning NOT a normal distribution.


# WW Smart Points descriptive statistics
points_stats = clean_recipes['wws_points'].describe()
points_stats





# Distribution of ratings in the dataset
clean_recipes['rating'].hist(bins=15)
plt.title("Food.com Recipes - Ratings Distribution")
plt.xlabel("Rating")
plt.ylabel("Number of Recipes")
plt.show()


# Separate the dataset to "healthy" (above median) and "unhealthy" (below median)
healthy_recipes = clean_recipes.loc[clean_recipes['wws_points'] >= points_stats['50%']]
unhealthy_recipes = clean_recipes.loc[clean_recipes['wws_points'] < points_stats['50%']]

# Calculate the mean and median
healthy_median = healthy_recipes['rating'].median()
healthy_mean = healthy_recipes['rating'].mean()
unhealthy_median = unhealthy_recipes['rating'].median()
unhealthy_mean = unhealthy_recipes['rating'].mean()

# Print the results
print(f"Healthy recipes\nMedian: {round(healthy_median, 2)}\nMean: {round(healthy_mean, 2)}\n")
print(f"Unhealthy recipes\nMedian: {round(unhealthy_median, 2)}\nMean: {round(unhealthy_mean, 2)}")


# What is the heath rating of '5-star' recipes?
highest_rated = clean_recipes.loc[clean_recipes['rating'] >= 5]
print(f'Total number of "5-star" recipes: {highest_rated.shape[0]}')

# Create bins
min_points = highest_rated['wws_points'].min()
max_points = highest_rated['wws_points'].max()
points_range = max_points - min_points
points_bins = np.arange(min_points, max_points, 10) # 5 was good with less granular cuisines
points_labels = [f'{points_bins[i]} to {points_bins[i+1]}' for i in range(len(points_bins)-1)]
bins_df = pd.cut(highest_rated['wws_points'], bins=points_bins, labels=points_labels)

# Set the index and its name
points_df = highest_rated.set_index(bins_df)
points_df.index.name = "WWS Point Ranges"

# Create grouped DataFrame by count
binned_df = points_df.groupby(['WWS Point Ranges']).count()
binned_df['id'].plot(kind="bar")

# Plot formatting
plt.title("WW Smart Point Distribution for 5-star Recipes")
plt.xlabel("WW Smart Point Ranges")
plt.ylabel("Number of Recipes")

plt.savefig(f'Images/Question 1 - Distribution of 5-star Recipes.png', bbox_inches="tight")
plt.show()


# Identify the healthiest 5-star recipes
healthiest_recipes = highest_rated[['name', 'wws_points', 'cuisine', 'protein_g', 'meal_type']]
healthiest_recipes = healthiest_recipes.sort_values('wws_points').reset_index(drop=True)

# Format DataFrame for display
healthiest_recipes['name'] = [word.title() for word in healthiest_recipes['name']]
healthiest_recipes['cuisine'] = [word.title() for word in healthiest_recipes['cuisine']]
healthiest_recipes['meal_type'] = [word.title() for word in healthiest_recipes['meal_type']]

healthiest_recipes = healthiest_recipes.rename(columns={
    'name': 'Recipe',
    'wws_points': 'WW Smart Points',
    'cuisine': 'Cuisine',
    'protein_g': 'Protein (g)',
    'meal_type': 'Meal Type'})

# Export the DataFrame as an image
dfi.export(healthiest_recipes.head(10), 'Images/Question 1 - Healthiest Recipes.png')
healthiest_recipes.head(10)





# Isolate 'breakfast, lunch, dinner' from clean_recipes
meal_df = clean_recipes.groupby(['meal_type']).median(numeric_only=True)
meal_df


updated_types = clean_recipes['meal_type'].unique()
updated_types = ['breakfast', 'lunch', 'dinner']

# Breakfast
breakfast = clean_recipes.loc[clean_recipes['meal_type'] == "breakfast"].copy()
print(f'breakfast: {breakfast.shape}')

# Lunch
lunch = clean_recipes.loc[clean_recipes['meal_type'] == "lunch"].copy()
print(f'lunch: {lunch.shape}')

# Dinner
dinner = clean_recipes.loc[clean_recipes['meal_type'] == "dinner"].copy()
print(f'dinner: {dinner.shape}')


# Create list of nutritional values to create a plot for
nutrition_list = ['Calories (kcal)', 'Saturated Fat (g)', 'Sugar (g)']

def meal_plots(target_nutrition):
    fig, axs = plt.subplots(3, sharex=True, sharey=True)
    x_col = 'wws_points'
    y_col = 'rating'
    size_col = 'protein_g'
    df_list = [breakfast, lunch, dinner]

    rsquared_list = []
    for idx, val in enumerate(df_list):        
        colour_col = target_nutrition
        # Bin by `wws_points`
        min_points = df_list[idx]['wws_points'].describe().min()
        max_points = df_list[idx]['wws_points'].describe().max()
        
        # Create bins
        points_bins = np.arange(min_points, max_points, 15) # 5 was good with less granular cuisines
        points_labels = [f'{points_bins[i]} to {points_bins[i+1]}' for i in range(len(points_bins)-1)]
        bins_df = pd.cut(df_list[idx]['wws_points'], bins=points_bins, labels=points_labels)
        
        # Set the index and its name
        points_df = df_list[idx].set_index(bins_df)
        points_df.index.name = "WWS Point Ranges"
        
        # Create grouped DataFrame by numeric means
        binned_df = points_df.groupby(['WWS Point Ranges']).median(numeric_only=True) # originally mean
    
        # Extract x- and y-values
        x = binned_df[x_col]
        y = binned_df[y_col]
        size = binned_df[size_col]
        colour = binned_df[colour_col]
    
        scatter_plot = axs[idx].scatter(x, y, s=size*10, alpha=0.3, c=colour)
        axs[2].set_xlabel('WW Smart Points')
        axs[idx].set_ylabel(updated_types[idx].title())
        cbar = plt.colorbar(scatter_plot)

        if (target_nutrition == "sat_fat_g"):
            bar_label = nutrition_list[1]
        elif (target_nutrition == "sugar_g"):
            bar_label = nutrition_list[2]
        else:        
            bar_label = target_nutrition
        cbar.set_label(bar_label)
        fig.suptitle(f"Rating vs WW Smart Points - {bar_label}")
    
        (slope, intercept, rvalue, pvalue, stderr) = stats.linregress(x, y)
        line_equation = f'y = {round(slope, 2)}x + {round(intercept, 2)}'
        regression_values = slope * x + intercept
        axs[idx].plot(x, regression_values, linestyle='--', c='red')
        if idx == 0:
            x_coord, y_coord = 80, 240
        elif idx == 1:
            x_coord, y_coord = 80, 150
        elif idx == 2:
            x_coord, y_coord = 80, 50
        axs[idx].annotate(line_equation, xy=(x_coord, y_coord), xycoords='figure points',
            fontsize = 12, color='red', weight='bold')

        rsquared = round(rvalue**2, 3)
        rsquared_list.append(rsquared)
        # print(f'{updated_types[idx]} R-value: {rsquared}')
    
    fig.savefig(f'Images/Question 2 - WW Smart Points & {colour_col}.png', bbox_inches="tight")
    return(rsquared_list)

rvals = meal_plots('sat_fat_g')
for index in range(len(rvals)):
    print(f'{updated_types[index]} R-value: {rvals[index]}')
meal_plots('sugar_g')
meal_plots('Calories')
plt.show()


# Create a DataFrame grouped by the means of each cuisine
meal_df = clean_recipes.groupby(['meal_type']).median(numeric_only=True)

# Get percentage of "healthy" recipes per cuisine
# Set the limit as the median 'wws_points'
wws_median = clean_recipes['wws_points'].describe()['50%']

# Get the total number of recipes per cuisine
meal_count = clean_recipes.groupby(['meal_type'])['id'].count()

# Create a DataFrame of recipes that sit above the median 'wws_points'
healthy_count = clean_recipes.loc[clean_recipes['wws_points'] < wws_median]

# Create a groupby DataFrame that counts the number of healthy recipes
healthy_group = healthy_count.groupby(['meal_type'])['id'].count()

# Calculate the percentage value
percent_healthy = []
for idx in range(len(meal_count)):
    percent_healthy.append(int(healthy_group[idx] * 100 / meal_count[idx]))

# Create a DataFrame with calculated percentages, add the average WWS Points as a new column
percent_df = pd.DataFrame(percent_healthy, index=healthy_group.index, columns=['percent_healthy'])
percent_df['ave_wws_points'] = meal_df['wws_points']

# Sort the values and reset index to recover 'cuisine'
percent_df = percent_df.sort_values(by=['percent_healthy'], ascending=True).reset_index()

# Plot the bar chart
bar_chart = plt.bar(
    x = percent_df['meal_type'],
    height = percent_df['ave_wws_points'],
    width = 0.64,
    color = "grey")
bar_chart.set_figwidth = 10
bar_chart.set_figheight = 10

# Set the labels
plt.title("Percentage of Healthy Recipes per Meal Type")
plt.xlabel("Meal Types")
plt.ylabel("Average WW Smart Points")

# Set the xticks
meal_titles = [word.title() for word in percent_df['meal_type']]
plt.xticks(
    ticks = percent_df['meal_type'],
    labels = meal_titles)

# Find the healthiest meal index and set the bar colour to green
highest_pct = percent_df['percent_healthy'].max()
healthiest_meal = percent_df.loc[percent_df['percent_healthy'] == highest_pct].index[0]
bar_chart[healthiest_meal].set_color('green')


# Annotate the bar chart with the percentage values
for index, row in percent_df.iterrows():
    plt.annotate(
        f"{row['percent_healthy']}%",
        color = "purple",
        xy = (row.name, meal_df[meal_df.index == row['meal_type']]['wws_points']),
        xytext = (-8, 2),
        textcoords='offset points')

# Save the plot as a png
plt.savefig(f'Images/Question 2 - Percentage of Healthy Recipes per Meal Type.png', bbox_inches="tight")





# Get a list of unique tags
unique_ingredients = []
for string in clean_recipes['ingredients']:
    # Strip and split the string to a list
    tag_list = string.strip("[]").split(', ')
    for word_idx in range(len(tag_list)):
        # Get the tag
        tag = tag_list[word_idx].strip("'")
        if tag not in unique_ingredients:
            unique_ingredients.append(tag)

# Display the tags alphabetically
print(f"Number of unique ingredients: {len(unique_ingredients)}")
sorted_ingredients = sorted(unique_ingredients)
sorted_ingredients

# Create a dictionary
ingred_dict = {}
for mealtype in clean_recipes['meal_type'].unique():
    ingred_dict[mealtype.title()] = dict(
        Ingredient = [],
        Count = [],
        Percent = [])

# Loop through each meal type and find the most popular ingredient
ingredient_list = []
count_list = []
for meal in clean_recipes['meal_type'].unique():
    df = clean_recipes.loc[clean_recipes['meal_type'] == meal]
    num_recipes = df.shape[0]

    # Use the parse_tags function to get the list of ingredients per meal type
    df_parsed = parse_tags(sorted_ingredients, 'ingredients', df, 'id')

    max_count = 0
    top_count = []
    top_ingredient = []
    for idx, key in enumerate(df_parsed):
        get_count = df_parsed[key]['count']
        # Ignore the 'multiple' list, not applicable
        if (key != 'multiple'):
            if (get_count > max_count):
                top_ingredient.append(key)
                top_count.append(get_count)
                max_count = get_count

    # Update the values to the dictionary
    ingred_dict[meal.title()]['Ingredient'] = sorted(top_ingredient[-3:], reverse=True)
    ingred_dict[meal.title()]['Count'] = sorted(top_count[-3:], reverse=True)
    
    percent = [int(count*100/num_recipes) for count in top_count[-3:]]
    ingred_dict[meal.title()]['Percent'] = sorted(percent, reverse=True)

# Format the dictionary contents for display
for mealtype in ingred_dict:
    ingred_dict[mealtype]['Percent'] = [f'{value}%' for value in ingred_dict[mealtype]['Percent']]
    ingred_dict[mealtype]['Ingredient'] = [word.title() for word in ingred_dict[mealtype]['Ingredient']]

# Reformat the dictionary to create a nested DataFrame
reformat = {(outerKey, innerKey): values for outerKey, innerDict in ingred_dict.items() for innerKey, values in innerDict.items()}
ingredients_df = pd.DataFrame(reformat)

# Export the DataFrame as an image
dfi.export(ingredients_df, 'Images/Question 2 - Most Popular Ingredient.png')
ingredients_df





# Create a DataFrame grouped by the means of each cuisine
cuisine_count = clean_recipes.groupby(['cuisine'])['id'].count()

# Plot the distribution of recipes per cuisine
count_chart = cuisine_count.sort_values(ascending=False).plot(
    kind = "bar",
    title = "Number of Recipes per Cuisine",
    color = "grey")
count_chart.set_xlabel("Cuisine")
count_chart.set_ylabel("Number of Recipes")
count_chart.set_xticklabels(
    cuisine_count.index,
    rotation_mode='default',
    rotation=45,
    ha='right')

# Save the plot as a png
plt.savefig(f'Images/Question 3 - Number of Recipes per Cuisine.png', bbox_inches="tight")
plt.show()


# Create a DataFrame grouped by the means of each cuisine
cuisine_df = clean_recipes.groupby(['cuisine']).median(numeric_only=True)

# Get percentage of "healthy" recipes per cuisine
# Set the limit as the median 'wws_points'
wws_median = clean_recipes['wws_points'].describe()['50%']

# Get the total number of recipes per cuisine
cuisine_count = clean_recipes.groupby(['cuisine'])['id'].count()

# Create a DataFrame of recipes that sit above the median 'wws_points'
healthy_count = clean_recipes.loc[clean_recipes['wws_points'] < wws_median]

# Create a groupby DataFrame that counts the number of healthy recipes
healthy_group = healthy_count.groupby(['cuisine'])['id'].count()

# Calculate the percentage value
percent_healthy = []
for idx in range(len(cuisine_count)):
    percent_healthy.append(int(healthy_group[idx] * 100 / cuisine_count[idx]))

# Create a DataFrame with calculated percentages, add the average WWS Points as a new column
percent_df = pd.DataFrame(percent_healthy, index=healthy_group.index, columns=['percent_healthy'])
percent_df['ave_wws_points'] = cuisine_df['wws_points']

# Sort the values and reset index to recover 'cuisine'
percent_df = percent_df.sort_values(by=['percent_healthy'], ascending=True).reset_index()

# Plot the bar chart
bar_chart = plt.bar(
    x = percent_df['cuisine'],
    height = percent_df['ave_wws_points'],
    width = 0.64,
    color = 'grey')
bar_chart.set_figwidth = 15
bar_chart.set_figheight = 15

# Set the labels
plt.title("Percentage of Healthy Recipes per Cuisine")
plt.xlabel("Cuisines")
plt.ylabel("Average WW Smart Points")

# Set the xticks
cuisine_titles = [word.title() for word in percent_df['cuisine']]
plt.xticks(
    ticks = percent_df['cuisine'],
    labels = cuisine_titles,
    rotation_mode = 'default',
    rotation = 45,
    ha = 'right')

# Find the healthiest meal index and set the bar colour to green
highest_pct = percent_df['percent_healthy'].max()
healthiest_meal = percent_df.loc[percent_df['percent_healthy'] == highest_pct].index[0]
bar_chart[healthiest_meal].set_color('green')

# Annotate the bar chart with the percentage values
for index, row in percent_df.iterrows():
    plt.annotate(
        f"{row['percent_healthy']}%", color="purple",
        xy=(row.name, cuisine_df[cuisine_df.index == row['cuisine']]['wws_points']),
        xytext=(-10,2), textcoords='offset points')

# Save the plot as a png
plt.savefig(f'Images/Question 3 - Percentage of Healthy Recipes per Cuisine.png', bbox_inches="tight")


# Find the ONE given: cajun cuisine, lunch recipe, highest health rating, 5-star rating
the_one = clean_recipes.loc[
    (clean_recipes['cuisine'] == "cajun")
    & (clean_recipes['meal_type'] == "lunch")
    & (clean_recipes['rating'] == 5)].sort_values(by='wws_points')
the_one['Calories'].head(1)
# URL: https://www.food.com/recipe/cajun-fried-chicken-strips-171545


# Import cuisine_dataframe.csv, which contains geographic information
cuisine_data = pd.read_csv('Output/cuisine_dataframe.csv')

# Plot each region with the rating as the colour and WW Smart points as the size
cuisine_map = cuisine_data.hvplot.points(
    'longitude',
    'latitude',
    color = 'rating',
    size = 'wws_points',
    scale = 30,
    alpha = 0.3,
    geo = True,
    tiles = "CartoLight",
    frame_width = 1000,
    frame_height = 800)
cuisine_map
