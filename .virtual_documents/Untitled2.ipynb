


# Check number of items in the Resources subdirectories
# Purpose: Automate file naming
def recipe_folder():
    count = len(os.listdir('Resources/01_recipe_IDs'))-1
    return(count)

def raw_folder():
    count = len(os.listdir('Resources/02_raw_data'))-1
    return(count)

def simple_folder():
    count = len(os.listdir('Resources/03_simplified_data'))-1
    return(count)

def complex_folder():
    count = len(os.listdir('Resources/04_complex_test'))-1
    return(count)


# Purpose: Check each value in a list whether it exists in the tags
def tag_check(input_list):
    """
    The purpose of this function is to check whether each value in list
    exists in a longer list (i.e. `tags` column in the Food.com dataset):

    Args:
    input_list (:obj: `list` of :obj:`str`): List of values to search for

    Returns:
    output_list (:obj: `list` of :obj:`int`): 
        output_list[0] (`int`): Values that exist in the longer list
        output_list[1] (`int`): Values that do not exist in the longer list
        output_list[2] (`int`): Alternatives to values that do not exist
    """
    yes_tag = []
    not_tag = []
    alt_tag = []

    # Loop through each tag in the list
    for tag in input_list:
        if tag in unique_tags:
            yes_tag.append(tag)
        else:
            not_tag.append(tag)
            # Check for alternative tags
            for values in unique_tags:
                if tag in values:
                    alt_tag.append(values)
    output_list = [yes_tag, not_tag, alt_tag]
    return(output_list)


# Purpose: Get a count of a given list from the tags column, and return its id
def parse_tags(input_list, df, save_col):
    # Create a dictionary to hold the count and list of IDs
    word_dict = {}
    for word in input_list:
        word_dict[word] = dict(count = 0, id_list = [])

    # Add a `multiple` key to track mutual exclusivity
    word_dict['multiple'] = dict(count = 0, id_list = [])

    for df_idx, string in df.iterrows():
        tag_list = string['tags'].strip("[]").split(', ')
    
        # Track mutual exclusivity for the meal types
        score = 0
        for word_idx in range(len(tag_list)):
            # Check the tag
            tag = tag_list[word_idx].strip("'")
            if tag in input_list:
                word_dict[tag]['count'] += 1
                word_dict[tag]['id_list'].append(string[save_col])
                score += 1
                # If >1 tag in a list, add to 'multiple' and continue
                if (score > 1):
                    word_dict['multiple']['count'] += 1
                    word_dict['multiple']['id_list'].append(string[save_col])
                    continue
    return(word_dict)


# Define a function to create linear regression plots
def linreg_plot(ax_object, x_values, y_values, x_coord, y_coord):
    # Calculate the lienar regression for x- and y-values
    (slope, intercept, rvalue, pvalue, stderr) = stats.linregress(x_values, y_values)

    # Get regression values and equation
    regression_values = x_values * slope + intercept
    line_equation = f'y = {round(slope, 2)}x + {round(intercept, 2)}'

    # Calculate the r-value
    print(f'The r-value is: {rvalue**2}')

    # Plot the linear regression
    ax_object.plot(x_values, regression_values, color='red')
    ax_object.annotate(
        line_equation, xy=(x_coord, y_coord), xycoords='figure points',
        fontsize = 15, color='red', weight='bold')
    plt.show()


# Parse 'nutrition' column and return nutritional values
def get_nutrition(string, nutritional_val):
    result = []
    # Based on longest name: Mono Unsaturated Fat
    longest_length = 90
    
    # Get the index of where the substring starts
    start_index = string.index(f"'{nutritional_val}")

    # Get the entire section of the nutritional value details
    section = string[start_index : start_index + longest_length]

    # Find the first closing curly bracket, set as the end_index
    curly_bracket = section.find("}") # returns -1 if not found
    
    if (curly_bracket > 0):
        end_index = start_index + curly_bracket
        section = string[start_index : end_index]

    section_list = section.split(",")
    for idx, part in enumerate(section_list):
        parsed_list = part.split(":")
        # Get the amount
        if (idx == 1):
            result.append(float(parsed_list[1].strip(" '")))
        if (idx == 2):
            result.append((parsed_list[1].strip(" '")))
        if (idx == 3):
            result.append(float(parsed_list[1].strip(" '")))
    return(result)


# Get the IQR, and lower and upper bounds, and append to DataFrame
def add_iqr(input_stats):
    # Check if DataFrame or Series
    if (len(input_stats.shape) == 1):
        # Code for Series as an input
        output_index = list(input_stats.index) + ['iqr', 'lower_bounds', 'upper_bounds']
        output_value = list(input_stats.values)

        # Get inputs
        lower = input_stats['25%']
        upper = input_stats['75%']
        iqr = upper - lower

        # Append to output list
        output_value.append(iqr)
        output_value.append(lower - 1.5*iqr)
        output_value.append(upper + 1.5*iqr)

        output_series = pd.Series(output_value, index=output_index)
        return(output_series)

    elif (len(input_stats.shape) > 1):
        iqr_list = []
        lowerbounds_list = []
        upperbounds_list = []
        above_max = []
        for df_idx, row in input_stats.iterrows():
            lower = input_stats.loc[df_idx, '25%']
            upper = input_stats.loc[df_idx, '75%']
            iqr = upper - lower
            
            iqr_list.append(iqr)
            lowerbounds_list.append(lower - 1.5*iqr)
            upperbounds_list.append(upper + 1.5*iqr)
        
            if (input_stats.loc[df_idx, 'max'] > upper):
                above_max.append(df_idx)
        
        # Add results to the descriptive statistics table
        input_stats['iqr'] = iqr_list
        input_stats['lower_bounds'] = lowerbounds_list
        input_stats['upper_bounds'] = upperbounds_list
        
        return(above_max)



