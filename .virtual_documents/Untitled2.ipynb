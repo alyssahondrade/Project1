





# Import libraries
import matplotlib.pyplot as plt
import pandas as pd
import numpy as np
import scipy.stats as stats

# Import functions notebook
%run functions.ipynb


# Import cleaned data
clean_recipes = pd.read_csv('Output/clean_recipes.csv')
clean_recipes.head()





# Isolate 'breakfast, lunch, dinner' from clean_recipes
meal_df = clean_recipes.groupby(['meal_type']).mean(numeric_only=True)
meal_df = meal_df.drop(columns=['id', 'contributor_id'])
meal_df


updated_types = clean_recipes['meal_type'].unique()
updated_types = ['breakfast', 'lunch', 'dinner']

# Breakfast
breakfast = clean_recipes.loc[clean_recipes['meal_type'] == "breakfast"].copy()
print(f'breakfast: {breakfast.shape}')

# Lunch
lunch = clean_recipes.loc[clean_recipes['meal_type'] == "lunch"].copy()
print(f'lunch: {lunch.shape}')

# Dinner
dinner = clean_recipes.loc[clean_recipes['meal_type'] == "dinner"].copy()
print(f'dinner: {dinner.shape}')


fig, axs = plt.subplots(3, sharex=True, sharey=True)
fig.suptitle("WW Smart Points")
x_col = 'wws_points'
y_col = 'rating'
size_col = 'protein_g'
colour_col = 'sat_fat_g'

df_list = [breakfast, lunch, dinner]

for idx, val in enumerate(df_list):

    # Bin by `wws_points`
    min_points = df_list[idx]['wws_points'].describe().min()
    max_points = df_list[idx]['wws_points'].describe().max()
    
    # Create bins
    points_bins = np.arange(min_points+16, max_points, 15) # 5 was good with less granular cuisines
    points_labels = [f'{points_bins[i]} to {points_bins[i+1]}' for i in range(len(points_bins)-1)]
    bins_df = pd.cut(df_list[idx]['wws_points'], bins=points_bins, labels=points_labels)
    
    # Set the index and its name
    points_df = df_list[idx].set_index(bins_df)
    points_df.index.name = "WWS Point Ranges"
    
    # Create grouped DataFrame by numeric means
    binned_df = points_df.groupby(['WWS Point Ranges']).mean(numeric_only=True) # originally mean
    binned_df

    # Extract x- and y-values
    x = binned_df[x_col]
    y = binned_df[y_col]
    size = binned_df[size_col]
    colour = binned_df[colour_col]

    scatter_plot = axs[idx].scatter(x, y, s=size*10, alpha=0.3, c=colour)
    axs[idx].set_ylabel(updated_types[idx].title())
    cbar = plt.colorbar(scatter_plot)
    cbar.set_label(colour_col)

    (slope, intercept, rvalue, pvalue, stderr) = stats.linregress(x, y)
    line_equation = f'y = {round(slope, 2)}x + {round(intercept, 2)}'
    regression_values = slope * x + intercept
    axs[idx].plot(x, regression_values, linestyle='--', c='red')
    if idx == 0:
        x_coord, y_coord = 50, 220
    elif idx == 1:
        x_coord, y_coord = 50, 130
    elif idx == 2:
        x_coord, y_coord = 50, 30
    axs[idx].annotate(line_equation, xy=(x_coord, y_coord), xycoords='figure points',
        fontsize = 12, color='red', weight='bold')

    print(f'{updated_types[idx]} R-value: {round(rvalue**2, 2)}')

fig.savefig('Meal types and WW Smart Points1.png')


# Create a DataFrame grouped by the means of each cuisine
meal_df = clean_recipes.groupby(['meal_type']).mean(numeric_only=True)

# Get percentage of "healthy" recipes per cuisine
# Set the limit as the median 'wws_points'
wws_median = clean_recipes['wws_points'].describe()['50%']

# Get the total number of recipes per cuisine
meal_count = clean_recipes.groupby(['meal_type'])['id'].count()

# Create a DataFrame of recipes that sit above the median 'wws_points'
healthy_count = clean_recipes.loc[clean_recipes['wws_points'] < wws_median]

# Create a groupby DataFrame that counts the number of healthy recipes
healthy_group = healthy_count.groupby(['meal_type'])['id'].count()

# Calculate the percentage value
percent_healthy = []
for idx in range(len(meal_count)):
    percent_healthy.append(int(healthy_group[idx] * 100 / meal_count[idx]))

# Create a DataFrame with calculated percentages, add the average WWS Points as a new column
percent_df = pd.DataFrame(percent_healthy, index=healthy_group.index, columns=['percent_healthy'])
percent_df['ave_wws_points'] = meal_df['wws_points']

# Sort the values and reset index to recover 'cuisine'
percent_df = percent_df.sort_values(by=['percent_healthy'], ascending=True).reset_index()

# Plot the bar chart
bar_chart = percent_df['ave_wws_points'].plot(
    kind = "bar",
    title = "Percentage of Healthy Recipes per Meal Type - Version 2",
    edgecolor = "white")

# Set the labels
bar_chart.set_xlabel("Meal Types")
bar_chart.set_ylabel("Average WW Smart Points")
cuisine_titles = [word.title() for word in percent_df['meal_type']]
bar_chart.set_xticklabels(
    cuisine_titles,
    rotation_mode='default',
    rotation=0)

# Annotate the bar chart with the percentage values
for index, row in percent_df.iterrows():
    plt.annotate(
        f"{row['percent_healthy']}%", color="green",
        xy=(row.name, meal_df[meal_df.index == row['meal_type']]['wws_points']),
        xytext=(-10,0), textcoords='offset points')





# Create a DataFrame grouped by the means of each cuisine
cuisine_df = clean_recipes.groupby(['cuisine']).mean(numeric_only=True)

# Get percentage of "healthy" recipes per cuisine
# Set the limit as the median 'wws_points'
wws_median = clean_recipes['wws_points'].describe()['50%']

# Get the total number of recipes per cuisine
cuisine_count = clean_recipes.groupby(['cuisine'])['id'].count()

# Create a DataFrame of recipes that sit above the median 'wws_points'
healthy_count = clean_recipes.loc[clean_recipes['wws_points'] < wws_median]

# Create a groupby DataFrame that counts the number of healthy recipes
healthy_group = healthy_count.groupby(['cuisine'])['id'].count()

# Calculate the percentage value
percent_healthy = []
for idx in range(len(cuisine_count)):
    percent_healthy.append(int(healthy_group[idx] * 100 / cuisine_count[idx]))

# Create a DataFrame with calculated percentages, add the average WWS Points as a new column
percent_df = pd.DataFrame(percent_healthy, index=healthy_group.index, columns=['percent_healthy'])
percent_df['ave_wws_points'] = cuisine_df['wws_points']

# Sort the values and reset index to recover 'cuisine'
percent_df = percent_df.sort_values(by=['percent_healthy'], ascending=True).reset_index()

# Plot the bar chart
bar_chart = percent_df['ave_wws_points'].plot(
    kind = "bar",
    title = "Percentage of Healthy Recipes per Cuisine - Version 2",
    figsize = (8,6),
    width = 1,
    linewidth = 10,
    edgecolor = "white")

# Set the labels
bar_chart.set_xlabel("Cuisines")
bar_chart.set_ylabel("Average WW Smart Points")
cuisine_titles = [word.title() for word in percent_df['cuisine']]
bar_chart.set_xticklabels(
    cuisine_titles,
    rotation_mode='default',
    rotation=45,
    ha='right')

# Annotate the bar chart with the percentage values
for index, row in percent_df.iterrows():
    plt.annotate(
        f"{row['percent_healthy']}%", color="green",
        xy=(row.name, cuisine_df[cuisine_df.index == row['cuisine']]['wws_points']),
        xytext=(-10,0), textcoords='offset points')






